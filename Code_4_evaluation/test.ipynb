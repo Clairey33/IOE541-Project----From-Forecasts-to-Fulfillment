{
 "cells": [
  {
   "cell_type": "code",
   "execution_count": 5,
   "id": "63bcd708",
   "metadata": {},
   "outputs": [],
   "source": [
    "import numpy as np\n",
    "import pandas as pd\n",
    "import scipy as sp"
   ]
  },
  {
   "cell_type": "code",
   "execution_count": 1,
   "id": "823004ff",
   "metadata": {},
   "outputs": [],
   "source": [
    "def safety_stock(SL, sd, L):\n",
    "    \"\"\"\n",
    "    Calculate safety stock based on the service level, \n",
    "    standard deviation of demand, and risk time.\n",
    "    \n",
    "    :param SL: Target service level (between 0 and 1)\n",
    "    :param sd: Standard deviation of demand\n",
    "    :param L: risk time\n",
    "    :return: Rounded safety stock\n",
    "    \"\"\"\n",
    "    if SL <= 0 or SL >= 1:\n",
    "        raise ValueError(\"SL must be strictly between 0 and 1.\")\n",
    "    \n",
    "    # z is the z-score for the service level\n",
    "    z = sp.stats.norm.ppf(SL)\n",
    "    \n",
    "    # Compute safety stock\n",
    "    st = z * sd * np.sqrt(L)\n",
    "    \n",
    "    # Round to two decimals\n",
    "    return st\n"
   ]
  },
  {
   "cell_type": "code",
   "execution_count": 2,
   "id": "1f1f57d6",
   "metadata": {},
   "outputs": [],
   "source": [
    "def get_demand_data():\n",
    "    '''\n",
    "    Very draft version\n",
    "    '''\n",
    "    df = pd.read_csv(\"Data_raw/sales_train_evaluation.csv\", header=0)\n",
    "    df = df.loc[df['id']==\"FOODS_3_819_WI_3_evaluation\"].T\n",
    "    df = df.drop(df.index[range(6)])\n",
    "    df = df.reset_index()\n",
    "    df.columns = [\"step\", \"demand\"]\n",
    "    return(df)"
   ]
  },
  {
   "cell_type": "code",
   "execution_count": 3,
   "id": "3393997d",
   "metadata": {},
   "outputs": [],
   "source": [
    "def ARIMA_forecast():\n",
    "    '''\n",
    "    return a map, key is review day, value is a list for prediction t+1, t+2, ..., t+R+L\n",
    "    '''\n",
    "    forecast_df = pd.read_csv(\"Data_raw/rolling_forecasts_arima.csv\", header=0)\n",
    "    forecasts = forecast_df.groupby(\"review_day\")[\"forecast\"].apply(list).to_dict()\n",
    "    return forecasts"
   ]
  },
  {
   "cell_type": "code",
   "execution_count": 61,
   "id": "8993f7af",
   "metadata": {},
   "outputs": [],
   "source": [
    "initial_stock = 0\n",
    "FT = 7\n",
    "L = 3\n",
    "SL = 0.95\n",
    "S = 0 \n",
    "actual_demand = get_demand_data()\n",
    "forecasts = ARIMA_forecast()\n",
    "review_periods = forecasts.keys()"
   ]
  },
  {
   "cell_type": "code",
   "execution_count": 62,
   "id": "bc940303",
   "metadata": {},
   "outputs": [],
   "source": [
    "fh = FT + L   # forecast horizon = review period + lead time\n",
    "last_day = actual_demand.iloc[-1, 0] # should be d_{a number}\n",
    "n_days = actual_demand.shape[0] # row numbers\n",
    "assert int(last_day[2:])==n_days\n"
   ]
  },
  {
   "cell_type": "code",
   "execution_count": 63,
   "id": "b5b14b37",
   "metadata": {},
   "outputs": [
    {
     "name": "stdout",
     "output_type": "stream",
     "text": [
      "1548\n",
      "latest demand should be\n",
      " step      d_1548\n",
      "demand         2\n",
      "Name: 1547, dtype: object\n",
      "1548\n"
     ]
    }
   ],
   "source": [
    "known_periods = n_days - 393 \n",
    "\n",
    "# Known demand is the training data\n",
    "known_demand = actual_demand.iloc[:known_periods, 1]\n",
    "\n",
    "print(known_periods)\n",
    "print(\"latest demand should be\\n\", actual_demand.iloc[known_periods-1, :])\n",
    "print(len(known_demand))"
   ]
  },
  {
   "cell_type": "code",
   "execution_count": null,
   "id": "c6aa50dd",
   "metadata": {},
   "outputs": [
    {
     "name": "stdout",
     "output_type": "stream",
     "text": [
      "[1521, 1528, 1535, 1542, 1549, 1556, 1563, 1570, 1577, 1584]\n"
     ]
    }
   ],
   "source": [
    "# all time step in the code is consistent with d_{...} in demand dataframe,\n",
    "# the relationship between time step and index in demand dataframe is\n",
    "# time step - 1 = index\n",
    "\n",
    "\n",
    "# initial/training demand period \n",
    "# known_periods means from d_1 to d_known_periods is the training data\n",
    "known_periods = n_days - 393 \n",
    "\n",
    "# Known demand is the training data\n",
    "known_demand = actual_demand.iloc[:known_periods, 1]\n",
    "\n",
    "with open(\"ana.txt\", \"a\") as f:\n",
    "    print(known_periods, file=f)\n",
    "    print(\"latest demand should be\\n\", actual_demand.iloc[known_periods-1, :], file=f)\n",
    "    print(len(known_demand), file=f)\n",
    "\n",
    "# Initialize arrays (lists) with length = known_periods\n",
    "orders = [0] * known_periods\n",
    "sent = [0] * known_periods\n",
    "backorders = [0] * known_periods\n",
    "frst_diffs = [0] * known_periods\n",
    "forecasts_array = [0] * (known_periods+1)\n",
    "\n",
    "# inventory level over time \n",
    "# s[t-1] is inventory at the end of period t\n",
    "s = [initial_stock] * known_periods  \n",
    "start = True\n",
    "count_ft = 0\n",
    "actual_demand_formetrics = []\n",
    "pinball_frc = []\n",
    "pinball_act = []\n",
    "#adjust to pure number\n",
    "review_days = [int(d[2:]) for d in review_periods] \n",
    "print(review_days[:10])\n",
    "\n",
    "method = \"ARIMA\"\n",
    "for t in range(known_periods+1, n_days+1):\n",
    "    # Append sent: actual dispatch is the minimum of demand and available stock at previous period.\n",
    "    with open(\"ana.txt\", \"a\") as f:\n",
    "        print(\"period\", f'd_{t}', file=f)\n",
    "\n",
    "    sent_val = min(actual_demand.iloc[t-1, 1], s[-1])\n",
    "    sent.append(sent_val)\n",
    "    \n",
    "    if t in review_days:\n",
    "        count_ft += 1\n",
    "        # Update known demand to current period\n",
    "        known_demand = actual_demand.iloc[:t, 1]\n",
    "        # Compute safety stock using the standard deviation of known demand\n",
    "        try:\n",
    "            sigma = np.std(known_demand) if len(known_demand) > 1 else 0\n",
    "        except Exception as e:\n",
    "            sigma = 0\n",
    "        ss = safety_stock(SL, sigma, L + FT)\n",
    "        \n",
    "        if S is None or S == 0:\n",
    "            # Select forecast method – all computations are wrapped in a try block.\n",
    "            try:\n",
    "                if method == \"ARIMA\":\n",
    "                    forecast = forecasts[f'd_{t}']\n",
    "                elif method == \"LGBM\":\n",
    "                    # In the R code this reads a file. Here we raise an error.\n",
    "                    raise NotImplementedError(\"LGBM forecast method not implemented.\")\n",
    "                else:\n",
    "                    pass\n",
    "            except Exception as e:\n",
    "                forecast = [0] * fh\n",
    "            # Ensure nonnegative forecasts\n",
    "            forecast = [max(0, f) for f in forecast]\n",
    "            # Q is the target inventory level = forecast sum + safety stock\n",
    "            Q = sum(forecast) + ss\n",
    "            # Record values for pinball loss computation\n",
    "            pinball_frc.append(Q)\n",
    "            # Sum actual demand over next fh periods (adjust slicing accordingly)\n",
    "            pinball_act.append(sum(actual_demand.iloc[t : t+fh, 1]))\n",
    "        else:\n",
    "            Q = S\n",
    "        # Append the forecast values – only the first fh values\n",
    "        forecasts_array.extend(forecast[:fh])\n",
    "        # Record the actual demand for metric calculations\n",
    "        actual_demand_formetrics.extend(actual_demand.iloc[t : t+fh, 1])\n",
    "\n",
    "        diff = np.diff(known_demand)\n",
    "        mean_diff_sq = np.sum(np.square(diff))\n",
    "        frst_diffs.extend([mean_diff_sq] * FT)\n",
    "        \n",
    "        # Calculate order amount.\n",
    "        start_idx = max(t - L - 1, 0)  # converting to 0-based index\n",
    "        sum_orders = sum(orders[start_idx : ])\n",
    "        order_amt = max(Q - s[-1] + sent[-1] - sum_orders, 0)\n",
    "        orders.append(order_amt)\n",
    "    else:\n",
    "        # No review: no order placed.\n",
    "        orders.append(0)\n",
    "        if count_ft == 0:\n",
    "            forecasts_array.append(0)\n",
    "    \n",
    "    # Update inventory level.\n",
    "    # If within lead time, no received order yet\n",
    "    if t <= L:\n",
    "        new_inventory = s[-1] - sent[-1]\n",
    "    else:\n",
    "        # orders[t-L] is the order placed L periods ago, now arriving.\n",
    "        new_inventory = s[-1] - sent[-1] + orders[t - L - 1]\n",
    "    s.append(new_inventory)\n",
    "\n",
    "    with open(\"ana.txt\", \"a\") as f:\n",
    "        print(\"inventory level\", file=f)\n",
    "        print(s[-20:], file=f)\n",
    "\n",
    "        print(\"order amount\", file=f)\n",
    "        print(orders[-20:], file=f)\n",
    "\n",
    "        print(\"sent value\", file=f)\n",
    "        print(sent[-20:], file=f)\n",
    "\n",
    "        print(\"period\", f'd_{t}', file=f)\n",
    "        print(\"current t:\", t, file=f)\n",
    "\n",
    "        print(\"aligned\", file=f)\n",
    "        assert(t==len(s)==len(orders)==len(sent))\n",
    "        print(len(known_demand), file=f)\n",
    "\n",
    "# Post-simulation metric calculations\n",
    "\n",
    "forecasts_array = forecasts_array[known_periods+1 :]\n",
    "forecasts_array = forecasts_array[: len(actual_demand_formetrics)]\n",
    "\n",
    "forecasts_array = np.array(forecasts_array)\n",
    "actual_demand_formetrics = np.array(actual_demand_formetrics)\n",
    "\n",
    "# For inventory and orders, take the tail (dropping the first cutoff elements) last 365 days \n",
    "inv = np.array(s[-365:])\n",
    "ords = np.array(orders[-365:])\n",
    "actual_demand_list = actual_demand.iloc[-365:, 1].to_numpy()\n",
    "# Pinball loss calculation\n",
    "temp_sum = []\n",
    "for act_val, frc_val in zip(pinball_act, pinball_frc):\n",
    "    if act_val >= frc_val:\n",
    "        temp_sum.append((act_val - frc_val) * SL)\n",
    "    else:\n",
    "        temp_sum.append((frc_val - act_val) * (1 - SL))\n",
    "# scaler is the mean of frst_diffs (dropping first cutoff elements)\n",
    "if len(frst_diffs[-365:]) > 0:\n",
    "    scaler = np.mean(frst_diffs[-365:])\n",
    "else:\n",
    "    scaler = 1  # avoid division by zero\n",
    "PLd = np.mean([d/scaler for d in temp_sum]) if scaler != 0 else 0\n",
    "PL = (np.mean(temp_sum) / scaler) if scaler != 0 else 0\n",
    "\n",
    "output = [\n",
    "    FT,\n",
    "    L,\n",
    "    SL,\n",
    "    np.sum(sent[-365:])/np.sum(actual_demand_list),\n",
    "    np.mean(np.array(sent[-365:])[actual_demand_list>0]/actual_demand_list[actual_demand_list>0]),\n",
    "    np.mean(s[-365:]),\n",
    "    np.max(s[-365:]),\n",
    "    np.sum(np.sum(actual_demand_list)-np.sum(sent[-365:])),\n",
    "    len(inv[inv==0]),\n",
    "    np.mean(inv)/np.mean(actual_demand_list),\n",
    "    np.sum(ords),\n",
    "    len(ords[ords>0]),\n",
    "    np.sum(actual_demand_formetrics),\n",
    "    np.sum(forecasts_array),\n",
    "    np.mean(actual_demand_formetrics-forecasts_array),\n",
    "    np.mean(np.abs(actual_demand_formetrics-forecasts_array)),\n",
    "    np.sqrt(np.mean((actual_demand_formetrics-forecasts_array)**2)),\n",
    "    np.sqrt(np.mean((actual_demand_formetrics-forecasts_array)**2)/np.mean((frst_diffs[-365:]))),\n",
    "    np.sqrt(np.mean((actual_demand_formetrics-forecasts_array)**2)/(np.mean(actual_demand_formetrics)**2)),\n",
    "    np.mean(np.abs(actual_demand_formetrics-forecasts_array))/np.mean(np.abs(frst_diffs[-365:])),\n",
    "    PLd,\n",
    "    PL\n",
    "]\n"
   ]
  },
  {
   "cell_type": "code",
   "execution_count": null,
   "id": "31a1227c",
   "metadata": {},
   "outputs": [],
   "source": [
    "\n"
   ]
  },
  {
   "cell_type": "code",
   "execution_count": 47,
   "id": "21980ed8",
   "metadata": {},
   "outputs": [
    {
     "data": {
      "text/plain": [
       "array([], dtype=int64)"
      ]
     },
     "execution_count": 47,
     "metadata": {},
     "output_type": "execute_result"
    }
   ],
   "source": [
    "forecasts_array"
   ]
  },
  {
   "cell_type": "code",
   "execution_count": 39,
   "id": "011879a2",
   "metadata": {},
   "outputs": [
    {
     "data": {
      "text/plain": [
       "numpy.float64"
      ]
     },
     "execution_count": 39,
     "metadata": {},
     "output_type": "execute_result"
    }
   ],
   "source": [
    "type(inv[inv==0])"
   ]
  },
  {
   "cell_type": "code",
   "execution_count": null,
   "id": "52a6123d",
   "metadata": {},
   "outputs": [],
   "source": []
  }
 ],
 "metadata": {
  "kernelspec": {
   "display_name": "Python 3",
   "language": "python",
   "name": "python3"
  },
  "language_info": {
   "codemirror_mode": {
    "name": "ipython",
    "version": 3
   },
   "file_extension": ".py",
   "mimetype": "text/x-python",
   "name": "python",
   "nbconvert_exporter": "python",
   "pygments_lexer": "ipython3",
   "version": "3.10.1"
  }
 },
 "nbformat": 4,
 "nbformat_minor": 5
}
